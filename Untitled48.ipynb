{
 "cells": [
  {
   "cell_type": "code",
   "execution_count": 55,
   "metadata": {},
   "outputs": [
    {
     "name": "stdout",
     "output_type": "stream",
     "text": [
      "gvcv\n",
      "bcbx\n",
      "false\n"
     ]
    }
   ],
   "source": [
    "def length(m,n):\n",
    "    if len(n) != len(m):\n",
    "        print('false')\n",
    "        return\n",
    "    for i in n:\n",
    "        if i not in m:\n",
    "            print('false')\n",
    "            return\n",
    "    for i in m:\n",
    "        if i not in n:\n",
    "            print('false')\n",
    "            return\n",
    "    print('true')\n",
    "n=(input())\n",
    "m=(input())\n",
    "length(m,n)\n",
    "    \n"
   ]
  },
  {
   "cell_type": "code",
   "execution_count": null,
   "metadata": {},
   "outputs": [],
   "source": [
    "def per(n,m):\n",
    "    if len(n)!=len(m):\n",
    "        print('false')\n",
    "        return\n",
    "    for i in n:\n",
    "        if i not in m:\n",
    "            print('false')\n",
    "            return\n",
    "    for i in m:\n",
    "        if i not in n:\n",
    "            print('false')\n",
    "            return\n",
    "    print('true')\n",
    "n=input()\n",
    "m=input()\n",
    "per(n,m)\n",
    "\n",
    "        "
   ]
  },
  {
   "cell_type": "code",
   "execution_count": 52,
   "metadata": {},
   "outputs": [
    {
     "ename": "SyntaxError",
     "evalue": "invalid syntax (<ipython-input-52-fd596ddff442>, line 6)",
     "output_type": "error",
     "traceback": [
      "\u001b[1;36m  File \u001b[1;32m\"<ipython-input-52-fd596ddff442>\"\u001b[1;36m, line \u001b[1;32m6\u001b[0m\n\u001b[1;33m    for i not in m:\u001b[0m\n\u001b[1;37m            ^\u001b[0m\n\u001b[1;31mSyntaxError\u001b[0m\u001b[1;31m:\u001b[0m invalid syntax\n"
     ]
    }
   ],
   "source": [
    "def per(n,m):\n",
    "    if (len(n)!=len(m)):\n",
    "        print(\"false\")\n",
    "        return\n",
    "    for i in n:\n",
    "        for i not in m:\n",
    "            print('false')\n",
    "            return\n",
    "    for i in m:\n",
    "        for i not in n:\n",
    "            print(\"false\")\n",
    "            return\n",
    "    print(\"true\")\n",
    "    \n",
    "n=input()\n",
    "m=input()\n",
    "per(n,m)\n",
    "            "
   ]
  },
  {
   "cell_type": "code",
   "execution_count": 49,
   "metadata": {},
   "outputs": [
    {
     "name": "stdout",
     "output_type": "stream",
     "text": [
      "ABCDCDC\n",
      "CDC\n"
     ]
    },
    {
     "data": {
      "text/plain": [
       "0"
      ]
     },
     "execution_count": 49,
     "metadata": {},
     "output_type": "execute_result"
    }
   ],
   "source": [
    "def sub(string,sub_string):\n",
    "    c=0\n",
    "    for s in string:\n",
    "        if(s==sub_string):\n",
    "            c=c+1\n",
    "    return c\n",
    "string=input()\n",
    "sub_string=input()\n",
    "sub(string,sub_string)\n"
   ]
  },
  {
   "cell_type": "code",
   "execution_count": null,
   "metadata": {},
   "outputs": [],
   "source": []
  },
  {
   "cell_type": "code",
   "execution_count": 51,
   "metadata": {},
   "outputs": [
    {
     "name": "stdout",
     "output_type": "stream",
     "text": [
      " My name is Anushka"
     ]
    }
   ],
   "source": [
    "str=\" My name is Anushka\"\n",
    "for i in str:\n",
    "    print(i,end=\"\")"
   ]
  },
  {
   "cell_type": "code",
   "execution_count": 42,
   "metadata": {},
   "outputs": [
    {
     "name": "stdout",
     "output_type": "stream",
     "text": [
      "11\n"
     ]
    }
   ],
   "source": [
    "string=\"My Name is Anushka Anushka\"\n",
    "c=string.find(\"Anus\")\n",
    "print(c)\n",
    "    "
   ]
  },
  {
   "cell_type": "code",
   "execution_count": 37,
   "metadata": {},
   "outputs": [
    {
     "data": {
      "text/plain": [
       "['shbv', 'ajbhj', ',ncfkjw', 'jncb']"
      ]
     },
     "execution_count": 37,
     "metadata": {},
     "output_type": "execute_result"
    }
   ],
   "source": [
    "a=\"shbv ajbhj ,ncfkjw jncb\"\n",
    "a=a.split()\n",
    "a\n"
   ]
  },
  {
   "cell_type": "code",
   "execution_count": 36,
   "metadata": {},
   "outputs": [
    {
     "data": {
      "text/plain": [
       "'My name is Vishi'"
      ]
     },
     "execution_count": 36,
     "metadata": {},
     "output_type": "execute_result"
    }
   ],
   "source": [
    "a=\"My name is Anushka\"\n",
    "a=a.replace(\"Anushka\",\"Vishi\")\n",
    "a"
   ]
  },
  {
   "cell_type": "code",
   "execution_count": 35,
   "metadata": {},
   "outputs": [
    {
     "data": {
      "text/plain": [
       "['i am i can andi will']"
      ]
     },
     "execution_count": 35,
     "metadata": {},
     "output_type": "execute_result"
    }
   ],
   "source": [
    "a=\"i am i can andi will\"\n",
    "b=a.split(\",\",1)\n",
    "b"
   ]
  },
  {
   "cell_type": "code",
   "execution_count": 30,
   "metadata": {},
   "outputs": [
    {
     "data": {
      "text/plain": [
       "True"
      ]
     },
     "execution_count": 30,
     "metadata": {},
     "output_type": "execute_result"
    }
   ],
   "source": [
    "a=\"anushka\">\"Anushka\"\n",
    "a"
   ]
  },
  {
   "cell_type": "code",
   "execution_count": 31,
   "metadata": {},
   "outputs": [
    {
     "data": {
      "text/plain": [
       "True"
      ]
     },
     "execution_count": 31,
     "metadata": {},
     "output_type": "execute_result"
    }
   ],
   "source": [
    "b=\"Anushka \"==\"Anushka\"\n",
    "a"
   ]
  },
  {
   "cell_type": "code",
   "execution_count": 22,
   "metadata": {},
   "outputs": [
    {
     "name": "stdout",
     "output_type": "stream",
     "text": [
      "3\n"
     ]
    }
   ],
   "source": [
    "str=\"Hello world\"\n",
    "c=0\n",
    "for letter in str:\n",
    "    if(letter==\"l\"):\n",
    "        c=c+1\n",
    "print(c)"
   ]
  },
  {
   "cell_type": "code",
   "execution_count": 27,
   "metadata": {},
   "outputs": [
    {
     "name": "stdout",
     "output_type": "stream",
     "text": [
      "no\n"
     ]
    }
   ],
   "source": [
    "s=\"hello world\"\n",
    "if \"ulf\" in s:\n",
    "    print(\"yes\")\n",
    "else:\n",
    "    print('no')"
   ]
  },
  {
   "cell_type": "code",
   "execution_count": 25,
   "metadata": {},
   "outputs": [
    {
     "name": "stdout",
     "output_type": "stream",
     "text": [
      "4\n"
     ]
    }
   ],
   "source": [
    "wrd=\"the quick brown fox jumps over the lazy dog\"\n",
    "c=0\n",
    "for i in range(len(wrd)):\n",
    "    if(wrd[i]==\"o\"):\n",
    "        c=c+1\n",
    "print(c)"
   ]
  },
  {
   "cell_type": "code",
   "execution_count": 11,
   "metadata": {},
   "outputs": [
    {
     "name": "stdout",
     "output_type": "stream",
     "text": [
      "akhsunA\n"
     ]
    }
   ],
   "source": [
    "# String \n",
    "s=\"Anushka\"\n",
    "print(s[: : -1])"
   ]
  },
  {
   "cell_type": "code",
   "execution_count": 24,
   "metadata": {},
   "outputs": [
    {
     "name": "stdout",
     "output_type": "stream",
     "text": [
      "4\n"
     ]
    }
   ],
   "source": [
    "s=\"the quick brown box jumps over a lazy dog\"\n",
    "c=0\n",
    "for i in s:\n",
    "    if(i==\"o\"):\n",
    "        c=c+1\n",
    "print(c)\n"
   ]
  },
  {
   "cell_type": "code",
   "execution_count": 18,
   "metadata": {},
   "outputs": [
    {
     "name": "stdout",
     "output_type": "stream",
     "text": [
      "ninja\n",
      "are\n",
      "hello ninja are u there\n",
      "ereht u era ajnin olleh\n"
     ]
    }
   ],
   "source": [
    "a=input\n"
   ]
  },
  {
   "cell_type": "code",
   "execution_count": 16,
   "metadata": {},
   "outputs": [
    {
     "name": "stdout",
     "output_type": "stream",
     "text": [
      "red blue green red\n"
     ]
    }
   ],
   "source": [
    "a=\"red\"\n",
    "b=\"blue green\"\n",
    "print(a+\" \"+b+\" \"+a)"
   ]
  },
  {
   "cell_type": "code",
   "execution_count": 20,
   "metadata": {},
   "outputs": [
    {
     "name": "stdout",
     "output_type": "stream",
     "text": [
      "anus\n"
     ]
    }
   ],
   "source": [
    "#\n",
    "s=\"anushka\"\n",
    "print(s[0:4])"
   ]
  }
 ],
 "metadata": {
  "kernelspec": {
   "display_name": "Python 3",
   "language": "python",
   "name": "python3"
  },
  "language_info": {
   "codemirror_mode": {
    "name": "ipython",
    "version": 3
   },
   "file_extension": ".py",
   "mimetype": "text/x-python",
   "name": "python",
   "nbconvert_exporter": "python",
   "pygments_lexer": "ipython3",
   "version": "3.7.3"
  }
 },
 "nbformat": 4,
 "nbformat_minor": 2
}

Print("Hello world")